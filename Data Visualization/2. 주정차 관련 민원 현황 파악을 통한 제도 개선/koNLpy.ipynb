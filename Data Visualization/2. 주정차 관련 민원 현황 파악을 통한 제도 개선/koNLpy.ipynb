{
 "cells": [
  {
   "cell_type": "markdown",
   "metadata": {},
   "source": [
    "# koNLpy를 사용한 단어 빈도 계산"
   ]
  },
  {
   "cell_type": "code",
   "execution_count": 1,
   "metadata": {},
   "outputs": [],
   "source": [
    "from konlpy.tag import Okt"
   ]
  },
  {
   "cell_type": "code",
   "execution_count": 2,
   "metadata": {},
   "outputs": [],
   "source": [
    "from collections import Counter"
   ]
  },
  {
   "cell_type": "code",
   "execution_count": 3,
   "metadata": {},
   "outputs": [],
   "source": [
    "import csv"
   ]
  },
  {
   "cell_type": "markdown",
   "metadata": {},
   "source": [
    "## 1. 전체 민원 분석"
   ]
  },
  {
   "cell_type": "code",
   "execution_count": 10,
   "metadata": {},
   "outputs": [],
   "source": [
    "filename = '/Users/User/Desktop/수원시 민원 분석/KEYWORD.txt'"
   ]
  },
  {
   "cell_type": "code",
   "execution_count": 11,
   "metadata": {},
   "outputs": [],
   "source": [
    "f = open(filename,'r', encoding='utf-8')"
   ]
  },
  {
   "cell_type": "code",
   "execution_count": 12,
   "metadata": {},
   "outputs": [],
   "source": [
    "keyword = f.read()"
   ]
  },
  {
   "cell_type": "markdown",
   "metadata": {},
   "source": [
    "### 1.1 okt 객체 생성"
   ]
  },
  {
   "cell_type": "code",
   "execution_count": 16,
   "metadata": {},
   "outputs": [],
   "source": [
    "okt = Okt()"
   ]
  },
  {
   "cell_type": "code",
   "execution_count": 18,
   "metadata": {},
   "outputs": [],
   "source": [
    "noun = okt.nouns(keyword)"
   ]
  },
  {
   "cell_type": "code",
   "execution_count": 20,
   "metadata": {},
   "outputs": [],
   "source": [
    "count = Counter(noun)"
   ]
  },
  {
   "cell_type": "markdown",
   "metadata": {},
   "source": [
    "### 1.2 명사 빈도 카운트"
   ]
  },
  {
   "cell_type": "code",
   "execution_count": 28,
   "metadata": {},
   "outputs": [],
   "source": [
    "nounlist  = count.most_common(200)"
   ]
  },
  {
   "cell_type": "code",
   "execution_count": 29,
   "metadata": {},
   "outputs": [
    {
     "name": "stdout",
     "output_type": "stream",
     "text": [
      "('재개발', 3622)\n",
      "('불법', 3268)\n",
      "('신고', 2041)\n",
      "('수원시', 1058)\n",
      "('장애인', 972)\n",
      "('주정', 904)\n",
      "('주차', 727)\n",
      "('정차', 693)\n",
      "('공원', 424)\n",
      "('아파트', 409)\n",
      "('요청', 324)\n",
      "('도로', 322)\n",
      "('보안등', 317)\n",
      "('버스', 311)\n",
      "('공사', 300)\n",
      "('가로등', 278)\n",
      "('불편', 274)\n",
      "('보수', 255)\n",
      "('단속', 227)\n",
      "('환경', 227)\n",
      "('안전', 216)\n",
      "('노점상', 194)\n",
      "('소음', 165)\n",
      "('쓰레기', 161)\n",
      "('정비', 160)\n",
      "('점검', 153)\n",
      "('관리', 152)\n",
      "('영통', 145)\n",
      "('처리', 145)\n",
      "('사업', 136)\n",
      "('구역', 135)\n",
      "('차량', 134)\n",
      "('보도', 130)\n",
      "('블럭', 107)\n",
      "('인도', 106)\n",
      "('시설', 105)\n",
      "('이전', 99)\n",
      "('영업', 90)\n",
      "('생활', 88)\n",
      "('어린이', 88)\n",
      "('무단', 81)\n",
      "('건설', 78)\n",
      "('설치', 70)\n",
      "('위반', 68)\n",
      "('투기', 66)\n",
      "('잡초', 62)\n",
      "('민원', 58)\n",
      "('택시', 58)\n",
      "('주민', 57)\n",
      "('물', 49)\n",
      "('행정', 49)\n",
      "('도시', 48)\n",
      "('가로수', 48)\n",
      "('국민', 48)\n",
      "('시장', 47)\n",
      "('교체', 47)\n",
      "('하천', 47)\n",
      "('교통', 45)\n",
      "('폐기물', 44)\n",
      "('하수', 44)\n",
      "('수도', 38)\n",
      "('방지', 38)\n",
      "('체육', 38)\n",
      "('파손', 38)\n",
      "('청소', 37)\n",
      "('수거', 36)\n",
      "('주차장', 35)\n",
      "('교육', 34)\n",
      "('철거', 33)\n",
      "('대출', 33)\n",
      "('전용', 32)\n",
      "('신분당선', 31)\n",
      "('관련', 30)\n",
      "('주택', 29)\n",
      "('계획', 29)\n",
      "('나무', 28)\n",
      "('차단', 28)\n",
      "('광고', 27)\n",
      "('요금', 26)\n",
      "('단지', 26)\n",
      "('시민', 26)\n",
      "('구', 26)\n",
      "('위생', 25)\n",
      "('자동차', 25)\n",
      "('지도', 24)\n",
      "('정류장', 24)\n",
      "('횡단', 24)\n",
      "('음식점', 23)\n",
      "('촬영', 23)\n",
      "('지원', 23)\n",
      "('녹지', 22)\n",
      "('냄새', 21)\n",
      "('악취', 21)\n",
      "('방치', 21)\n",
      "('누수', 21)\n",
      "('밤샘', 21)\n",
      "('형광등', 20)\n",
      "('가지', 20)\n",
      "('분양', 20)\n",
      "('제초', 19)\n",
      "('기관', 19)\n",
      "('지하', 19)\n",
      "('시간', 19)\n",
      "('기사', 18)\n",
      "('우수관', 18)\n",
      "('현수막', 17)\n",
      "('자전거', 17)\n",
      "('사장', 17)\n",
      "('개발', 17)\n",
      "('대형', 16)\n",
      "('호매', 16)\n",
      "('수리', 16)\n",
      "('번호판', 16)\n",
      "('안내', 16)\n",
      "('경기', 16)\n",
      "('건축물', 15)\n",
      "('사용', 15)\n",
      "('방충', 15)\n",
      "('망', 15)\n",
      "('차도', 15)\n",
      "('계량기', 14)\n",
      "('먼지', 14)\n",
      "('보행', 14)\n",
      "('건물', 14)\n",
      "('운영', 14)\n",
      "('간판', 13)\n",
      "('배차', 13)\n",
      "('버스정류장', 13)\n",
      "('도배', 13)\n",
      "('보호', 13)\n",
      "('횡단보도', 13)\n",
      "('지역', 12)\n",
      "('변기', 12)\n",
      "('철도', 12)\n",
      "('구간', 12)\n",
      "('하수도', 12)\n",
      "('고가', 11)\n",
      "('산책로', 11)\n",
      "('준수', 11)\n",
      "('동물', 10)\n",
      "('거리', 10)\n",
      "('방역', 10)\n",
      "('연장', 10)\n",
      "('비산', 10)\n",
      "('소각', 10)\n",
      "('바닥', 10)\n",
      "('표지판', 10)\n",
      "('육교', 9)\n",
      "('설립', 9)\n",
      "('행위', 9)\n",
      "('주거', 9)\n",
      "('경기도', 9)\n",
      "('당직', 9)\n",
      "('센터', 9)\n",
      "('사고', 8)\n",
      "('수술', 8)\n",
      "('변경', 8)\n",
      "('노상', 8)\n",
      "('현장', 8)\n",
      "('아이', 8)\n",
      "('승차', 8)\n",
      "('매연', 8)\n",
      "('건축', 8)\n",
      "('흡연', 8)\n",
      "('사항', 8)\n",
      "('턱', 8)\n",
      "('과태료', 7)\n",
      "('부지', 7)\n",
      "('노선', 7)\n",
      "('매장', 7)\n",
      "('송충이', 7)\n",
      "('신설', 6)\n",
      "('조명', 6)\n",
      "('부착', 6)\n",
      "('학교', 6)\n",
      "('수목', 6)\n",
      "('호수', 6)\n",
      "('화장실', 6)\n",
      "('과', 6)\n",
      "('전기차', 6)\n",
      "('배출', 6)\n",
      "('정보', 6)\n",
      "('등산로', 6)\n",
      "('전기', 6)\n",
      "('운행', 6)\n",
      "('허가', 6)\n",
      "('금연', 6)\n",
      "('산업', 6)\n",
      "('배수', 6)\n",
      "('노숙', 6)\n",
      "('훼손', 6)\n",
      "('문자', 6)\n",
      "('교호', 6)\n",
      "('착공', 6)\n",
      "('상수도', 5)\n",
      "('거주', 5)\n",
      "('번호', 5)\n",
      "('등록', 5)\n",
      "('조합', 5)\n",
      "('오염', 5)\n"
     ]
    }
   ],
   "source": [
    "for v in nounlist:\n",
    "    print(v)"
   ]
  },
  {
   "cell_type": "markdown",
   "metadata": {},
   "source": [
    "### csv 파일 저장"
   ]
  },
  {
   "cell_type": "code",
   "execution_count": 33,
   "metadata": {},
   "outputs": [],
   "source": [
    "with open(\"nounlist.csv\",\"w\", newline='', encoding='euc-kr') as f:\n",
    "    csvw = csv.writer(f)\n",
    "    for v in nounlist:\n",
    "        csvw.writerow(v) "
   ]
  },
  {
   "cell_type": "markdown",
   "metadata": {},
   "source": [
    "## 2. 최근 민원 분석 (1주)"
   ]
  },
  {
   "cell_type": "code",
   "execution_count": 26,
   "metadata": {},
   "outputs": [],
   "source": [
    "filename = '/Users/User/Desktop/수원시 민원 분석/KEYWORD_WEEK.txt'"
   ]
  },
  {
   "cell_type": "code",
   "execution_count": 27,
   "metadata": {},
   "outputs": [],
   "source": [
    "f = open(filename,'r', encoding='utf-8')"
   ]
  },
  {
   "cell_type": "code",
   "execution_count": 28,
   "metadata": {},
   "outputs": [],
   "source": [
    "keyword_week = f.read()"
   ]
  },
  {
   "cell_type": "markdown",
   "metadata": {},
   "source": [
    "### 2.1 okt 객체 생성"
   ]
  },
  {
   "cell_type": "code",
   "execution_count": 29,
   "metadata": {},
   "outputs": [],
   "source": [
    "okt = Okt()"
   ]
  },
  {
   "cell_type": "code",
   "execution_count": 30,
   "metadata": {},
   "outputs": [],
   "source": [
    "noun = okt.nouns(keyword_week)"
   ]
  },
  {
   "cell_type": "code",
   "execution_count": 31,
   "metadata": {},
   "outputs": [],
   "source": [
    "count = Counter(noun)"
   ]
  },
  {
   "cell_type": "markdown",
   "metadata": {},
   "source": [
    "### 2.2 명사 빈도 카운트"
   ]
  },
  {
   "cell_type": "code",
   "execution_count": 32,
   "metadata": {},
   "outputs": [],
   "source": [
    "nounlist  = count.most_common(100)"
   ]
  },
  {
   "cell_type": "code",
   "execution_count": 33,
   "metadata": {},
   "outputs": [
    {
     "name": "stdout",
     "output_type": "stream",
     "text": [
      "('불법', 329)\n",
      "('재개발', 265)\n",
      "('신고', 152)\n",
      "('아파트', 129)\n",
      "('장애인', 104)\n",
      "('정차', 89)\n",
      "('수원시', 84)\n",
      "('공원', 80)\n",
      "('주차', 72)\n",
      "('주정', 51)\n",
      "('노점상', 38)\n",
      "('단속', 34)\n",
      "('사업', 34)\n",
      "('버스', 34)\n",
      "('요청', 34)\n",
      "('보안등', 28)\n",
      "('처리', 25)\n",
      "('도로', 24)\n",
      "('공사', 24)\n",
      "('소음', 20)\n",
      "('단지', 20)\n",
      "('점검', 20)\n",
      "('영통', 20)\n",
      "('안전', 20)\n",
      "('도시', 20)\n",
      "('보수', 19)\n",
      "('불편', 19)\n",
      "('가로등', 18)\n",
      "('쓰레기', 18)\n",
      "('이전', 13)\n",
      "('차량', 13)\n",
      "('택시', 13)\n",
      "('수도', 12)\n",
      "('행정', 11)\n",
      "('보도', 11)\n",
      "('관리', 11)\n",
      "('분양', 10)\n",
      "('요금', 9)\n",
      "('철거', 9)\n",
      "('시장', 8)\n",
      "('정비', 8)\n",
      "('구역', 8)\n",
      "('생활', 8)\n",
      "('블럭', 8)\n",
      "('가로수', 7)\n",
      "('무단', 7)\n",
      "('인도', 7)\n",
      "('국민', 7)\n",
      "('청소', 6)\n",
      "('교육', 6)\n",
      "('하천', 6)\n",
      "('민원', 6)\n",
      "('환경', 5)\n",
      "('어린이', 5)\n",
      "('간판', 5)\n",
      "('시설', 5)\n",
      "('주택', 5)\n",
      "('차단', 5)\n",
      "('방치', 5)\n",
      "('교체', 5)\n",
      "('계획', 5)\n",
      "('위반', 4)\n",
      "('화장실', 4)\n",
      "('부지', 4)\n",
      "('물', 4)\n",
      "('설립', 4)\n",
      "('시민', 4)\n",
      "('음식점', 4)\n",
      "('건축물', 4)\n",
      "('주차장', 4)\n",
      "('신분당선', 4)\n",
      "('사고', 4)\n",
      "('투기', 4)\n",
      "('설치', 4)\n",
      "('학교', 4)\n",
      "('제초', 4)\n",
      "('하수', 4)\n",
      "('구', 4)\n",
      "('연장', 3)\n",
      "('지역', 3)\n",
      "('노후', 3)\n",
      "('위생', 3)\n",
      "('냄새', 3)\n",
      "('동물', 3)\n",
      "('먼지', 3)\n",
      "('영업', 3)\n",
      "('조합', 3)\n",
      "('번호판', 3)\n",
      "('자전거', 2)\n",
      "('신설', 2)\n",
      "('광고', 2)\n",
      "('측정', 2)\n",
      "('나무', 2)\n",
      "('추가', 2)\n",
      "('감사', 2)\n",
      "('대형', 2)\n",
      "('폐기물', 2)\n",
      "('계량기', 2)\n",
      "('상수도', 2)\n",
      "('악취', 2)\n"
     ]
    }
   ],
   "source": [
    "for v in nounlist:\n",
    "    print(v)"
   ]
  }
 ],
 "metadata": {
  "kernelspec": {
   "display_name": "Python 3",
   "language": "python",
   "name": "python3"
  },
  "language_info": {
   "codemirror_mode": {
    "name": "ipython",
    "version": 3
   },
   "file_extension": ".py",
   "mimetype": "text/x-python",
   "name": "python",
   "nbconvert_exporter": "python",
   "pygments_lexer": "ipython3",
   "version": "3.8.3"
  }
  {
   "cell_type": "markdown",
   "metadata": {},
   "source": [
    "# koNLpy를 사용한 단어 빈도 계산"
   ]
  },
  {
   "cell_type": "code",
   "execution_count": 1,
   "metadata": {},
   "outputs": [],
   "source": [
    "from konlpy.tag import Okt"
   ]
  },
  {
   "cell_type": "code",
   "execution_count": 2,
   "metadata": {},
   "outputs": [],
   "source": [
    "from collections import Counter"
   ]
  },
  {
   "cell_type": "code",
   "execution_count": 3,
   "metadata": {},
   "outputs": [],
   "source": [
    "import csv"
   ]
  },
  {
   "cell_type": "markdown",
   "metadata": {},
   "source": [
    "## 1. 전체 민원 분석"
   ]
  },
  {
   "cell_type": "code",
   "execution_count": 10,
   "metadata": {},
   "outputs": [],
   "source": [
    "filename = '/Users/User/Desktop/수원시 민원 분석/KEYWORD.txt'"
   ]
  },
  {
   "cell_type": "code",
   "execution_count": 11,
   "metadata": {},
   "outputs": [],
   "source": [
    "f = open(filename,'r', encoding='utf-8')"
   ]
  },
  {
   "cell_type": "code",
   "execution_count": 12,
   "metadata": {},
   "outputs": [],
   "source": [
    "keyword = f.read()"
   ]
  },
  {
   "cell_type": "markdown",
   "metadata": {},
   "source": [
    "### 1.1 okt 객체 생성"
   ]
  },
  {
   "cell_type": "code",
   "execution_count": 16,
   "metadata": {},
   "outputs": [],
   "source": [
    "okt = Okt()"
   ]
  },
  {
   "cell_type": "code",
   "execution_count": 18,
   "metadata": {},
   "outputs": [],
   "source": [
    "noun = okt.nouns(keyword)"
   ]
  },
  {
   "cell_type": "code",
   "execution_count": 20,
   "metadata": {},
   "outputs": [],
   "source": [
    "count = Counter(noun)"
   ]
  },
  {
   "cell_type": "markdown",
   "metadata": {},
   "source": [
    "### 1.2 명사 빈도 카운트"
   ]
  },
  {
   "cell_type": "code",
   "execution_count": 28,
   "metadata": {},
   "outputs": [],
   "source": [
    "nounlist  = count.most_common(200)"
   ]
  },
  {
   "cell_type": "code",
   "execution_count": 29,
   "metadata": {},
   "outputs": [
    {
     "name": "stdout",
     "output_type": "stream",
     "text": [
      "('재개발', 3622)\n",
      "('불법', 3268)\n",
      "('신고', 2041)\n",
      "('수원시', 1058)\n",
      "('장애인', 972)\n",
      "('주정', 904)\n",
      "('주차', 727)\n",
      "('정차', 693)\n",
      "('공원', 424)\n",
      "('아파트', 409)\n",
      "('요청', 324)\n",
      "('도로', 322)\n",
      "('보안등', 317)\n",
      "('버스', 311)\n",
      "('공사', 300)\n",
      "('가로등', 278)\n",
      "('불편', 274)\n",
      "('보수', 255)\n",
      "('단속', 227)\n",
      "('환경', 227)\n",
      "('안전', 216)\n",
      "('노점상', 194)\n",
      "('소음', 165)\n",
      "('쓰레기', 161)\n",
      "('정비', 160)\n",
      "('점검', 153)\n",
      "('관리', 152)\n",
      "('영통', 145)\n",
      "('처리', 145)\n",
      "('사업', 136)\n",
      "('구역', 135)\n",
      "('차량', 134)\n",
      "('보도', 130)\n",
      "('블럭', 107)\n",
      "('인도', 106)\n",
      "('시설', 105)\n",
      "('이전', 99)\n",
      "('영업', 90)\n",
      "('생활', 88)\n",
      "('어린이', 88)\n",
      "('무단', 81)\n",
      "('건설', 78)\n",
      "('설치', 70)\n",
      "('위반', 68)\n",
      "('투기', 66)\n",
      "('잡초', 62)\n",
      "('민원', 58)\n",
      "('택시', 58)\n",
      "('주민', 57)\n",
      "('물', 49)\n",
      "('행정', 49)\n",
      "('도시', 48)\n",
      "('가로수', 48)\n",
      "('국민', 48)\n",
      "('시장', 47)\n",
      "('교체', 47)\n",
      "('하천', 47)\n",
      "('교통', 45)\n",
      "('폐기물', 44)\n",
      "('하수', 44)\n",
      "('수도', 38)\n",
      "('방지', 38)\n",
      "('체육', 38)\n",
      "('파손', 38)\n",
      "('청소', 37)\n",
      "('수거', 36)\n",
      "('주차장', 35)\n",
      "('교육', 34)\n",
      "('철거', 33)\n",
      "('대출', 33)\n",
      "('전용', 32)\n",
      "('신분당선', 31)\n",
      "('관련', 30)\n",
      "('주택', 29)\n",
      "('계획', 29)\n",
      "('나무', 28)\n",
      "('차단', 28)\n",
      "('광고', 27)\n",
      "('요금', 26)\n",
      "('단지', 26)\n",
      "('시민', 26)\n",
      "('구', 26)\n",
      "('위생', 25)\n",
      "('자동차', 25)\n",
      "('지도', 24)\n",
      "('정류장', 24)\n",
      "('횡단', 24)\n",
      "('음식점', 23)\n",
      "('촬영', 23)\n",
      "('지원', 23)\n",
      "('녹지', 22)\n",
      "('냄새', 21)\n",
      "('악취', 21)\n",
      "('방치', 21)\n",
      "('누수', 21)\n",
      "('밤샘', 21)\n",
      "('형광등', 20)\n",
      "('가지', 20)\n",
      "('분양', 20)\n",
      "('제초', 19)\n",
      "('기관', 19)\n",
      "('지하', 19)\n",
      "('시간', 19)\n",
      "('기사', 18)\n",
      "('우수관', 18)\n",
      "('현수막', 17)\n",
      "('자전거', 17)\n",
      "('사장', 17)\n",
      "('개발', 17)\n",
      "('대형', 16)\n",
      "('호매', 16)\n",
      "('수리', 16)\n",
      "('번호판', 16)\n",
      "('안내', 16)\n",
      "('경기', 16)\n",
      "('건축물', 15)\n",
      "('사용', 15)\n",
      "('방충', 15)\n",
      "('망', 15)\n",
      "('차도', 15)\n",
      "('계량기', 14)\n",
      "('먼지', 14)\n",
      "('보행', 14)\n",
      "('건물', 14)\n",
      "('운영', 14)\n",
      "('간판', 13)\n",
      "('배차', 13)\n",
      "('버스정류장', 13)\n",
      "('도배', 13)\n",
      "('보호', 13)\n",
      "('횡단보도', 13)\n",
      "('지역', 12)\n",
      "('변기', 12)\n",
      "('철도', 12)\n",
      "('구간', 12)\n",
      "('하수도', 12)\n",
      "('고가', 11)\n",
      "('산책로', 11)\n",
      "('준수', 11)\n",
      "('동물', 10)\n",
      "('거리', 10)\n",
      "('방역', 10)\n",
      "('연장', 10)\n",
      "('비산', 10)\n",
      "('소각', 10)\n",
      "('바닥', 10)\n",
      "('표지판', 10)\n",
      "('육교', 9)\n",
      "('설립', 9)\n",
      "('행위', 9)\n",
      "('주거', 9)\n",
      "('경기도', 9)\n",
      "('당직', 9)\n",
      "('센터', 9)\n",
      "('사고', 8)\n",
      "('수술', 8)\n",
      "('변경', 8)\n",
      "('노상', 8)\n",
      "('현장', 8)\n",
      "('아이', 8)\n",
      "('승차', 8)\n",
      "('매연', 8)\n",
      "('건축', 8)\n",
      "('흡연', 8)\n",
      "('사항', 8)\n",
      "('턱', 8)\n",
      "('과태료', 7)\n",
      "('부지', 7)\n",
      "('노선', 7)\n",
      "('매장', 7)\n",
      "('송충이', 7)\n",
      "('신설', 6)\n",
      "('조명', 6)\n",
      "('부착', 6)\n",
      "('학교', 6)\n",
      "('수목', 6)\n",
      "('호수', 6)\n",
      "('화장실', 6)\n",
      "('과', 6)\n",
      "('전기차', 6)\n",
      "('배출', 6)\n",
      "('정보', 6)\n",
      "('등산로', 6)\n",
      "('전기', 6)\n",
      "('운행', 6)\n",
      "('허가', 6)\n",
      "('금연', 6)\n",
      "('산업', 6)\n",
      "('배수', 6)\n",
      "('노숙', 6)\n",
      "('훼손', 6)\n",
      "('문자', 6)\n",
      "('교호', 6)\n",
      "('착공', 6)\n",
      "('상수도', 5)\n",
      "('거주', 5)\n",
      "('번호', 5)\n",
      "('등록', 5)\n",
      "('조합', 5)\n",
      "('오염', 5)\n"
     ]
    }
   ],
   "source": [
    "for v in nounlist:\n",
    "    print(v)"
   ]
  },
  {
   "cell_type": "markdown",
   "metadata": {},
   "source": [
    "### csv 파일 저장"
   ]
  },
  {
   "cell_type": "code",
   "execution_count": 33,
   "metadata": {},
   "outputs": [],
   "source": [
    "with open(\"nounlist.csv\",\"w\", newline='', encoding='euc-kr') as f:\n",
    "    csvw = csv.writer(f)\n",
    "    for v in nounlist:\n",
    "        csvw.writerow(v) "
   ]
  },
  {
   "cell_type": "markdown",
   "metadata": {},
   "source": [
    "## 2. 최근 민원 분석 (1주)"
   ]
  },
  {
   "cell_type": "code",
   "execution_count": 26,
   "metadata": {},
   "outputs": [],
   "source": [
    "filename = '/Users/User/Desktop/수원시 민원 분석/KEYWORD_WEEK.txt'"
   ]
  },
  {
   "cell_type": "code",
   "execution_count": 27,
   "metadata": {},
   "outputs": [],
   "source": [
    "f = open(filename,'r', encoding='utf-8')"
   ]
  },
  {
   "cell_type": "code",
   "execution_count": 28,
   "metadata": {},
   "outputs": [],
   "source": [
    "keyword_week = f.read()"
   ]
  },
  {
   "cell_type": "markdown",
   "metadata": {},
   "source": [
    "### 2.1 okt 객체 생성"
   ]
  },
  {
   "cell_type": "code",
   "execution_count": 29,
   "metadata": {},
   "outputs": [],
   "source": [
    "okt = Okt()"
   ]
  },
  {
   "cell_type": "code",
   "execution_count": 30,
   "metadata": {},
   "outputs": [],
   "source": [
    "noun = okt.nouns(keyword_week)"
   ]
  },
  {
   "cell_type": "code",
   "execution_count": 31,
   "metadata": {},
   "outputs": [],
   "source": [
    "count = Counter(noun)"
   ]
  },
  {
   "cell_type": "markdown",
   "metadata": {},
   "source": [
    "### 2.2 명사 빈도 카운트"
   ]
  },
  {
   "cell_type": "code",
   "execution_count": 32,
   "metadata": {},
   "outputs": [],
   "source": [
    "nounlist  = count.most_common(100)"
   ]
  },
  {
   "cell_type": "code",
   "execution_count": 33,
   "metadata": {},
   "outputs": [
    {
     "name": "stdout",
     "output_type": "stream",
     "text": [
      "('불법', 329)\n",
      "('재개발', 265)\n",
      "('신고', 152)\n",
      "('아파트', 129)\n",
      "('장애인', 104)\n",
      "('정차', 89)\n",
      "('수원시', 84)\n",
      "('공원', 80)\n",
      "('주차', 72)\n",
      "('주정', 51)\n",
      "('노점상', 38)\n",
      "('단속', 34)\n",
      "('사업', 34)\n",
      "('버스', 34)\n",
      "('요청', 34)\n",
      "('보안등', 28)\n",
      "('처리', 25)\n",
      "('도로', 24)\n",
      "('공사', 24)\n",
      "('소음', 20)\n",
      "('단지', 20)\n",
      "('점검', 20)\n",
      "('영통', 20)\n",
      "('안전', 20)\n",
      "('도시', 20)\n",
      "('보수', 19)\n",
      "('불편', 19)\n",
      "('가로등', 18)\n",
      "('쓰레기', 18)\n",
      "('이전', 13)\n",
      "('차량', 13)\n",
      "('택시', 13)\n",
      "('수도', 12)\n",
      "('행정', 11)\n",
      "('보도', 11)\n",
      "('관리', 11)\n",
      "('분양', 10)\n",
      "('요금', 9)\n",
      "('철거', 9)\n",
      "('시장', 8)\n",
      "('정비', 8)\n",
      "('구역', 8)\n",
      "('생활', 8)\n",
      "('블럭', 8)\n",
      "('가로수', 7)\n",
      "('무단', 7)\n",
      "('인도', 7)\n",
      "('국민', 7)\n",
      "('청소', 6)\n",
      "('교육', 6)\n",
      "('하천', 6)\n",
      "('민원', 6)\n",
      "('환경', 5)\n",
      "('어린이', 5)\n",
      "('간판', 5)\n",
      "('시설', 5)\n",
      "('주택', 5)\n",
      "('차단', 5)\n",
      "('방치', 5)\n",
      "('교체', 5)\n",
      "('계획', 5)\n",
      "('위반', 4)\n",
      "('화장실', 4)\n",
      "('부지', 4)\n",
      "('물', 4)\n",
      "('설립', 4)\n",
      "('시민', 4)\n",
      "('음식점', 4)\n",
      "('건축물', 4)\n",
      "('주차장', 4)\n",
      "('신분당선', 4)\n",
      "('사고', 4)\n",
      "('투기', 4)\n",
      "('설치', 4)\n",
      "('학교', 4)\n",
      "('제초', 4)\n",
      "('하수', 4)\n",
      "('구', 4)\n",
      "('연장', 3)\n",
      "('지역', 3)\n",
      "('노후', 3)\n",
      "('위생', 3)\n",
      "('냄새', 3)\n",
      "('동물', 3)\n",
      "('먼지', 3)\n",
      "('영업', 3)\n",
      "('조합', 3)\n",
      "('번호판', 3)\n",
      "('자전거', 2)\n",
      "('신설', 2)\n",
      "('광고', 2)\n",
      "('측정', 2)\n",
      "('나무', 2)\n",
      "('추가', 2)\n",
      "('감사', 2)\n",
      "('대형', 2)\n",
      "('폐기물', 2)\n",
      "('계량기', 2)\n",
      "('상수도', 2)\n",
      "('악취', 2)\n"
     ]
    }
   ],
   "source": [
    "for v in nounlist:\n",
    "    print(v)"
   ]
  }
 ],
 "metadata": {
  "kernelspec": {
   "display_name": "Python 3",
   "language": "python",
   "name": "python3"
  },
  "language_info": {
   "codemirror_mode": {
    "name": "ipython",
    "version": 3
   },
   "file_extension": ".py",
   "mimetype": "text/x-python",
   "name": "python",
   "nbconvert_exporter": "python",
   "pygments_lexer": "ipython3",
   "version": "3.8.3"
  }
 },
 "nbformat": 4,
 "nbformat_minor": 4
}
